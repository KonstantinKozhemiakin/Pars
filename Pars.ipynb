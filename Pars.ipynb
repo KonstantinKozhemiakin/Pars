{
  "nbformat": 4,
  "nbformat_minor": 0,
  "metadata": {
    "colab": {
      "provenance": []
    },
    "kernelspec": {
      "name": "python3",
      "display_name": "Python 3"
    },
    "language_info": {
      "name": "python"
    }
  },
  "cells": [
    {
      "cell_type": "code",
      "execution_count": null,
      "metadata": {
        "id": "hbv_mssBjVnW"
      },
      "outputs": [],
      "source": [
        "import requests\n",
        "from bs4 import BeautifulSoup  "
      ]
    },
    {
      "cell_type": "code",
      "source": [
        "url = \"https://www.kinopoisk.ru/lists/movies/top250/\""
      ],
      "metadata": {
        "id": "7q4LOHW5jkWf"
      },
      "execution_count": null,
      "outputs": []
    },
    {
      "cell_type": "code",
      "source": [
        "r=requests.get(url)\n",
        "r.text\n",
        "soup = BeautifulSoup(r.text,'lxml')\n",
        "#soup.findAll()\n",
        "#print(soup.prettify())"
      ],
      "metadata": {
        "id": "gWB-J7eNw_9C"
      },
      "execution_count": null,
      "outputs": []
    },
    {
      "cell_type": "code",
      "source": [
        "print(soup.prettify())\n"
      ],
      "metadata": {
        "id": "S8Hx2P5gPKR8"
      },
      "execution_count": null,
      "outputs": []
    },
    {
      "cell_type": "code",
      "source": [
        "link = 'https://www.kinopoisk.ru'+soup.find('div', class_='styles_root__3a8vf').find('a', class_='base-movie-main-info_link__3BnCh').get('href')\n",
        "link"
      ],
      "metadata": {
        "id": "hw75EUXhaTaG"
      },
      "execution_count": null,
      "outputs": []
    },
    {
      "cell_type": "code",
      "source": [
        "original_name = soup.find('div', class_='styles_root__3a8vf').find('span', class_='desktop-list-main-info_secondaryText__1ov2X').text\n",
        "r_name = soup.find('div', class_='styles_root__3a8vf').find('span', class_='styles_mainTitle__3Bgao styles_activeMovieTittle__1yPIb').text\n",
        "country = soup.find('div', class_='styles_root__3a8vf').findAll('span', class_='desktop-list-main-info_truncatedText__2Q88H')[0].text\n",
        "rate = soup.find('div', class_='styles_root__3a8vf').find('span', class_='styles_kinopoiskValuePositive__1G4F6 styles_kinopoiskValue__2oNdS').text\n",
        "rate"
      ],
      "metadata": {
        "id": "5FIgks8OFyJZ"
      },
      "execution_count": null,
      "outputs": []
    },
    {
      "cell_type": "code",
      "source": [
        "import requests\n",
        "from bs4 import BeautifulSoup  \n",
        "from time import sleep\n",
        "import pandas as pd\n",
        "header = ['link','original_name','r_name','country','rate']\n",
        "data = []\n",
        "for p in range(1,6):\n",
        "  url = f\"https://www.kinopoisk.ru/lists/movies/top250/?page={p}&tab=all\"\n",
        "  r=requests.get(url)\n",
        "  sleep(3)\n",
        "  soup = BeautifulSoup(r.text,'lxml')\n",
        "  films = soup.findAll('div', class_='styles_root__3a8vf')\n",
        "  for film in films:\n",
        "    link = \"https://www.kinopoisk.ru\"+film.find('a', class_='base-movie-main-info_link__3BnCh').get('href')\n",
        "    original_name = film.find('span', class_='desktop-list-main-info_secondaryText__1ov2X').text\n",
        "    r_name = film.find('span', class_='styles_mainTitle__3Bgao styles_activeMovieTittle__1yPIb').text\n",
        "    country = film.findAll('span', class_='desktop-list-main-info_truncatedText__2Q88H')[0].text\n",
        "    rate = film.find('span', class_='styles_kinopoiskValuePositive__1G4F6 styles_kinopoiskValue__2oNdS').text\n",
        "    data.append([link, original_name,r_name, country, rate])\n",
        "df = pd.DataFrame(data, columns = header)\n",
        "df"
      ],
      "metadata": {
        "id": "TS07hXJRboPf"
      },
      "execution_count": null,
      "outputs": []
    },
    {
      "cell_type": "code",
      "source": [
        "import requests\n",
        "from bs4 import BeautifulSoup\n",
        "url = \"https://voltag.ru/catalog/list/\"\n",
        "r = requests.get(url)\n",
        "soup = BeautifulSoup(r.text,'lxml')\n",
        "test = soup.find('div', class_ = 'catalog_list')\n",
        "print(test.prettify())\n"
      ],
      "metadata": {
        "id": "XHh1zykPHIpq"
      },
      "execution_count": null,
      "outputs": []
    },
    {
      "cell_type": "code",
      "source": [
        "catalog = soup.find('div',class_= \"catalog_item two_plus_one_photo no_aggregates \")\n",
        "tov = soup.find('div',class_= \"catalog_item two_plus_one_photo no_aggregates \")\n",
        "item_name = soup.find('div',class_= \"catalog_item two_plus_one_photo no_aggregates \").find('div',class_='catalog_item_title_wrap').text\n",
        "link = soup.find('div',class_= \"catalog_item two_plus_one_photo no_aggregates \").find('a').get('href')\n",
        "link_of_item = \"https://voltag.ru/\"+link\n",
        "r2=requests.get(link_of_item)\n",
        "soup2 = BeautifulSoup(r2.text,'lxml')\n",
        "#test = soup2.find('div', class_ = 'catalog_list')"
      ],
      "metadata": {
        "id": "yREEZBNLcIOF"
      },
      "execution_count": null,
      "outputs": []
    },
    {
      "cell_type": "code",
      "source": [
        "cros_br = soup2.find('div', class_='catalog_group_crosslist_info').findAll('td',class_='mnfr')\n",
        "cros_br[1].text\n",
        "cros = soup2.find('div', class_='catalog_group_crosslist_info').findAll('td', class_='') \n",
        "\n",
        "len(cros)"
      ],
      "metadata": {
        "id": "oVW-5Jqq1lzW"
      },
      "execution_count": null,
      "outputs": []
    },
    {
      "cell_type": "code",
      "source": [
        "import requests\n",
        "from bs4 import BeautifulSoup  \n",
        "from time import sleep\n",
        "import pandas as pd\n",
        "header = ['link_of_item','item_name','cros','cros_brand']\n",
        "data = []\n",
        "for p in range(1,3):\n",
        "  url = f\"https://voltag.ru/catalog/list/p-{p}&tab=all\"\n",
        "  r=requests.get(url)\n",
        "  sleep(2)\n",
        "  soup = BeautifulSoup(r.text,'lxml')\n",
        "  items = soup.findAll('div', class_='catalog_item two_plus_one_photo no_aggregates ')\n",
        "  for item in items:\n",
        "    #link = \"https://voltag.ru\"+item.find('a', class_='base-movie-main-info_link__3BnCh').get('href')\n",
        "    link = item.find('a').get('href')\n",
        "    link_of_item = \"https://voltag.ru/\"+link\n",
        "    item_name = item.find('div',class_='catalog_item_title_wrap').text\n",
        "    r2=requests.get(link_of_item)\n",
        "    soup2 = BeautifulSoup(r2.text,'lxml')\n",
        "    cros_br = soup2.find('div', class_='catalog_group_crosslist_info').findAll('td',class_='mnfr')\n",
        "    cros = soup2.find('div', class_='catalog_group_crosslist_info').findAll('td', class_='') \n",
        "    for i in range(0, len(cros)):\n",
        "      br = cros_br[i].text\n",
        "      cr = cros[i].text\n",
        "      data.append([link_of_item, item_name, cr,br])\n",
        "    #cros_br[1].text\n",
        "df = pd.DataFrame(data, columns = header)\n",
        "#df"
      ],
      "metadata": {
        "id": "JjFK0OjPief5"
      },
      "execution_count": null,
      "outputs": []
    },
    {
      "cell_type": "code",
      "source": [
        "df"
      ],
      "metadata": {
        "colab": {
          "base_uri": "https://localhost:8080/",
          "height": 424
        },
        "id": "gSwlak0tA22N",
        "outputId": "fe8d8562-e92f-4b98-bc68-956d6851e52a"
      },
      "execution_count": null,
      "outputs": [
        {
          "output_type": "execute_result",
          "data": {
            "text/plain": [
              "                                          link_of_item    item_name  \\\n",
              "0    https://voltag.ru//catalog/group/voltag_ala001...  \\nALA0016\\n   \n",
              "1    https://voltag.ru//catalog/group/voltag_ala001...  \\nALA0016\\n   \n",
              "2    https://voltag.ru//catalog/group/voltag_ala001...  \\nALA0016\\n   \n",
              "3    https://voltag.ru//catalog/group/voltag_ala001...  \\nALA0016\\n   \n",
              "4    https://voltag.ru//catalog/group/voltag_ala001...  \\nALA0016\\n   \n",
              "..                                                 ...          ...   \n",
              "499  https://voltag.ru//catalog/group/voltag_ala161...  \\nALA1618\\n   \n",
              "500  https://voltag.ru//catalog/group/voltag_ala161...  \\nALA1618\\n   \n",
              "501  https://voltag.ru//catalog/group/voltag_ala161...  \\nALA1618\\n   \n",
              "502  https://voltag.ru//catalog/group/voltag_ala161...  \\nALA1618\\n   \n",
              "503  https://voltag.ru//catalog/group/voltag_ala161...  \\nALA1618\\n   \n",
              "\n",
              "                                                  cros  cros_brand  \n",
              "0                                                A5090          AS  \n",
              "1                                               116096       Cargo  \n",
              "2                                           CAL41106AS         CAS  \n",
              "3                                           0K9BV18300     Hyundai  \n",
              "4                               0K55818300, 0K55918300         Kia  \n",
              "..                                                 ...         ...  \n",
              "499                                           20130158  Prestolite  \n",
              "500  600040, 600255, 600303, 600319, 600806, 600808...       Valeo  \n",
              "501                                         1-3315-25W         WAI  \n",
              "502                                             23071N         WPS  \n",
              "503                                         301N20047Z      ZAUFER  \n",
              "\n",
              "[504 rows x 4 columns]"
            ],
            "text/html": [
              "\n",
              "  <div id=\"df-1859216a-be50-4321-b860-381f70d3fb40\">\n",
              "    <div class=\"colab-df-container\">\n",
              "      <div>\n",
              "<style scoped>\n",
              "    .dataframe tbody tr th:only-of-type {\n",
              "        vertical-align: middle;\n",
              "    }\n",
              "\n",
              "    .dataframe tbody tr th {\n",
              "        vertical-align: top;\n",
              "    }\n",
              "\n",
              "    .dataframe thead th {\n",
              "        text-align: right;\n",
              "    }\n",
              "</style>\n",
              "<table border=\"1\" class=\"dataframe\">\n",
              "  <thead>\n",
              "    <tr style=\"text-align: right;\">\n",
              "      <th></th>\n",
              "      <th>link_of_item</th>\n",
              "      <th>item_name</th>\n",
              "      <th>cros</th>\n",
              "      <th>cros_brand</th>\n",
              "    </tr>\n",
              "  </thead>\n",
              "  <tbody>\n",
              "    <tr>\n",
              "      <th>0</th>\n",
              "      <td>https://voltag.ru//catalog/group/voltag_ala001...</td>\n",
              "      <td>\\nALA0016\\n</td>\n",
              "      <td>A5090</td>\n",
              "      <td>AS</td>\n",
              "    </tr>\n",
              "    <tr>\n",
              "      <th>1</th>\n",
              "      <td>https://voltag.ru//catalog/group/voltag_ala001...</td>\n",
              "      <td>\\nALA0016\\n</td>\n",
              "      <td>116096</td>\n",
              "      <td>Cargo</td>\n",
              "    </tr>\n",
              "    <tr>\n",
              "      <th>2</th>\n",
              "      <td>https://voltag.ru//catalog/group/voltag_ala001...</td>\n",
              "      <td>\\nALA0016\\n</td>\n",
              "      <td>CAL41106AS</td>\n",
              "      <td>CAS</td>\n",
              "    </tr>\n",
              "    <tr>\n",
              "      <th>3</th>\n",
              "      <td>https://voltag.ru//catalog/group/voltag_ala001...</td>\n",
              "      <td>\\nALA0016\\n</td>\n",
              "      <td>0K9BV18300</td>\n",
              "      <td>Hyundai</td>\n",
              "    </tr>\n",
              "    <tr>\n",
              "      <th>4</th>\n",
              "      <td>https://voltag.ru//catalog/group/voltag_ala001...</td>\n",
              "      <td>\\nALA0016\\n</td>\n",
              "      <td>0K55818300, 0K55918300</td>\n",
              "      <td>Kia</td>\n",
              "    </tr>\n",
              "    <tr>\n",
              "      <th>...</th>\n",
              "      <td>...</td>\n",
              "      <td>...</td>\n",
              "      <td>...</td>\n",
              "      <td>...</td>\n",
              "    </tr>\n",
              "    <tr>\n",
              "      <th>499</th>\n",
              "      <td>https://voltag.ru//catalog/group/voltag_ala161...</td>\n",
              "      <td>\\nALA1618\\n</td>\n",
              "      <td>20130158</td>\n",
              "      <td>Prestolite</td>\n",
              "    </tr>\n",
              "    <tr>\n",
              "      <th>500</th>\n",
              "      <td>https://voltag.ru//catalog/group/voltag_ala161...</td>\n",
              "      <td>\\nALA1618\\n</td>\n",
              "      <td>600040, 600255, 600303, 600319, 600806, 600808...</td>\n",
              "      <td>Valeo</td>\n",
              "    </tr>\n",
              "    <tr>\n",
              "      <th>501</th>\n",
              "      <td>https://voltag.ru//catalog/group/voltag_ala161...</td>\n",
              "      <td>\\nALA1618\\n</td>\n",
              "      <td>1-3315-25W</td>\n",
              "      <td>WAI</td>\n",
              "    </tr>\n",
              "    <tr>\n",
              "      <th>502</th>\n",
              "      <td>https://voltag.ru//catalog/group/voltag_ala161...</td>\n",
              "      <td>\\nALA1618\\n</td>\n",
              "      <td>23071N</td>\n",
              "      <td>WPS</td>\n",
              "    </tr>\n",
              "    <tr>\n",
              "      <th>503</th>\n",
              "      <td>https://voltag.ru//catalog/group/voltag_ala161...</td>\n",
              "      <td>\\nALA1618\\n</td>\n",
              "      <td>301N20047Z</td>\n",
              "      <td>ZAUFER</td>\n",
              "    </tr>\n",
              "  </tbody>\n",
              "</table>\n",
              "<p>504 rows × 4 columns</p>\n",
              "</div>\n",
              "      <button class=\"colab-df-convert\" onclick=\"convertToInteractive('df-1859216a-be50-4321-b860-381f70d3fb40')\"\n",
              "              title=\"Convert this dataframe to an interactive table.\"\n",
              "              style=\"display:none;\">\n",
              "        \n",
              "  <svg xmlns=\"http://www.w3.org/2000/svg\" height=\"24px\"viewBox=\"0 0 24 24\"\n",
              "       width=\"24px\">\n",
              "    <path d=\"M0 0h24v24H0V0z\" fill=\"none\"/>\n",
              "    <path d=\"M18.56 5.44l.94 2.06.94-2.06 2.06-.94-2.06-.94-.94-2.06-.94 2.06-2.06.94zm-11 1L8.5 8.5l.94-2.06 2.06-.94-2.06-.94L8.5 2.5l-.94 2.06-2.06.94zm10 10l.94 2.06.94-2.06 2.06-.94-2.06-.94-.94-2.06-.94 2.06-2.06.94z\"/><path d=\"M17.41 7.96l-1.37-1.37c-.4-.4-.92-.59-1.43-.59-.52 0-1.04.2-1.43.59L10.3 9.45l-7.72 7.72c-.78.78-.78 2.05 0 2.83L4 21.41c.39.39.9.59 1.41.59.51 0 1.02-.2 1.41-.59l7.78-7.78 2.81-2.81c.8-.78.8-2.07 0-2.86zM5.41 20L4 18.59l7.72-7.72 1.47 1.35L5.41 20z\"/>\n",
              "  </svg>\n",
              "      </button>\n",
              "      \n",
              "  <style>\n",
              "    .colab-df-container {\n",
              "      display:flex;\n",
              "      flex-wrap:wrap;\n",
              "      gap: 12px;\n",
              "    }\n",
              "\n",
              "    .colab-df-convert {\n",
              "      background-color: #E8F0FE;\n",
              "      border: none;\n",
              "      border-radius: 50%;\n",
              "      cursor: pointer;\n",
              "      display: none;\n",
              "      fill: #1967D2;\n",
              "      height: 32px;\n",
              "      padding: 0 0 0 0;\n",
              "      width: 32px;\n",
              "    }\n",
              "\n",
              "    .colab-df-convert:hover {\n",
              "      background-color: #E2EBFA;\n",
              "      box-shadow: 0px 1px 2px rgba(60, 64, 67, 0.3), 0px 1px 3px 1px rgba(60, 64, 67, 0.15);\n",
              "      fill: #174EA6;\n",
              "    }\n",
              "\n",
              "    [theme=dark] .colab-df-convert {\n",
              "      background-color: #3B4455;\n",
              "      fill: #D2E3FC;\n",
              "    }\n",
              "\n",
              "    [theme=dark] .colab-df-convert:hover {\n",
              "      background-color: #434B5C;\n",
              "      box-shadow: 0px 1px 3px 1px rgba(0, 0, 0, 0.15);\n",
              "      filter: drop-shadow(0px 1px 2px rgba(0, 0, 0, 0.3));\n",
              "      fill: #FFFFFF;\n",
              "    }\n",
              "  </style>\n",
              "\n",
              "      <script>\n",
              "        const buttonEl =\n",
              "          document.querySelector('#df-1859216a-be50-4321-b860-381f70d3fb40 button.colab-df-convert');\n",
              "        buttonEl.style.display =\n",
              "          google.colab.kernel.accessAllowed ? 'block' : 'none';\n",
              "\n",
              "        async function convertToInteractive(key) {\n",
              "          const element = document.querySelector('#df-1859216a-be50-4321-b860-381f70d3fb40');\n",
              "          const dataTable =\n",
              "            await google.colab.kernel.invokeFunction('convertToInteractive',\n",
              "                                                     [key], {});\n",
              "          if (!dataTable) return;\n",
              "\n",
              "          const docLinkHtml = 'Like what you see? Visit the ' +\n",
              "            '<a target=\"_blank\" href=https://colab.research.google.com/notebooks/data_table.ipynb>data table notebook</a>'\n",
              "            + ' to learn more about interactive tables.';\n",
              "          element.innerHTML = '';\n",
              "          dataTable['output_type'] = 'display_data';\n",
              "          await google.colab.output.renderOutput(dataTable, element);\n",
              "          const docLink = document.createElement('div');\n",
              "          docLink.innerHTML = docLinkHtml;\n",
              "          element.appendChild(docLink);\n",
              "        }\n",
              "      </script>\n",
              "    </div>\n",
              "  </div>\n",
              "  "
            ]
          },
          "metadata": {},
          "execution_count": 258
        }
      ]
    }
  ]
}